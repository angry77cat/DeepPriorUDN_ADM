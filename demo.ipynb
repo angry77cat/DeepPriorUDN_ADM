{
 "cells": [
  {
   "cell_type": "code",
   "execution_count": 1,
   "metadata": {
    "ExecuteTime": {
     "end_time": "2020-03-15T16:57:47.231297Z",
     "start_time": "2020-03-15T16:57:46.551814Z"
    }
   },
   "outputs": [],
   "source": [
    "from torch.utils.data import DataLoader\n",
    "from models import ADM, UDN\n",
    "from methods import ADM_Deblur, UDN_Deblur, ADM_UDN_Combine\n",
    "from datasets import Set14Dataset\n",
    "from utils import ratio_determine\n",
    "import torch\n",
    "import numpy as np\n",
    "\n",
    "device = 'cuda' if torch.cuda.is_available() else 'cpu'"
   ]
  },
  {
   "cell_type": "code",
   "execution_count": 3,
   "metadata": {
    "ExecuteTime": {
     "end_time": "2020-03-15T16:58:05.430993Z",
     "start_time": "2020-03-15T16:58:00.308031Z"
    }
   },
   "outputs": [
    {
     "name": "stdout",
     "output_type": "stream",
     "text": [
      "ADM deblur elapse time: 0.5363sec\n",
      "task: test-g00-k00 blurry: 20.22/0.356 restored: 26.38/0.801\n",
      "UDN deblur telapse time: 0.1605sec\n",
      "task: test-g00-k00 blurry: 20.22/0.356 restored: 26.68/0.812\n",
      "ADM_UDN deblur elapse time: 0.0113sec\n",
      "task: test-g00-k00 blurry: 20.22/0.356 restored: 26.77/0.814\n",
      "ADM deblur elapse time: 0.8028sec\n",
      "task: test-g01-k01 blurry: 22.40/0.570 restored: 31.44/0.906\n",
      "UDN deblur telapse time: 0.2537sec\n",
      "task: test-g01-k01 blurry: 22.40/0.570 restored: 30.61/0.888\n",
      "ADM_UDN deblur elapse time: 0.0126sec\n",
      "task: test-g01-k01 blurry: 22.40/0.570 restored: 31.32/0.905\n",
      "ADM deblur elapse time: 0.5359sec\n",
      "task: test-g02-k02 blurry: 21.67/0.453 restored: 27.82/0.822\n",
      "UDN deblur telapse time: 0.1659sec\n",
      "task: test-g02-k02 blurry: 21.67/0.453 restored: 28.07/0.831\n",
      "ADM_UDN deblur elapse time: 0.0156sec\n",
      "task: test-g02-k02 blurry: 21.67/0.453 restored: 28.09/0.832\n",
      "ADM deblur elapse time: 0.2526sec\n",
      "task: test-g03-k03 blurry: 18.72/0.299 restored: 29.19/0.783\n",
      "UDN deblur telapse time: 0.0867sec\n",
      "task: test-g03-k03 blurry: 18.72/0.299 restored: 29.30/0.795\n",
      "ADM_UDN deblur elapse time: 0.0064sec\n",
      "task: test-g03-k03 blurry: 18.72/0.299 restored: 29.53/0.801\n",
      "ADM deblur elapse time: 0.2357sec\n",
      "task: test-g04-k04 blurry: 19.23/0.507 restored: 30.20/0.943\n",
      "UDN deblur telapse time: 0.0799sec\n",
      "task: test-g04-k04 blurry: 19.23/0.507 restored: 30.01/0.937\n",
      "ADM_UDN deblur elapse time: 0.0035sec\n",
      "task: test-g04-k04 blurry: 19.23/0.507 restored: 30.27/0.942\n",
      "ADM deblur elapse time: 0.1954sec\n",
      "task: test-g05-k05 blurry: 21.48/0.505 restored: 32.99/0.817\n",
      "UDN deblur telapse time: 0.0671sec\n",
      "task: test-g05-k05 blurry: 21.48/0.505 restored: 33.02/0.827\n",
      "ADM_UDN deblur elapse time: 0.0029sec\n",
      "task: test-g05-k05 blurry: 21.48/0.505 restored: 33.21/0.829\n",
      "ADM deblur elapse time: 0.4019sec\n",
      "task: test-g06-k06 blurry: 18.94/0.442 restored: 31.91/0.901\n",
      "UDN deblur telapse time: 0.1215sec\n",
      "task: test-g06-k06 blurry: 18.94/0.442 restored: 31.82/0.901\n",
      "ADM_UDN deblur elapse time: 0.0053sec\n",
      "task: test-g06-k06 blurry: 18.94/0.442 restored: 32.09/0.906\n",
      "ADM deblur elapse time: 0.2344sec\n",
      "task: test-g07-k07 blurry: 18.96/0.566 restored: 34.24/0.926\n",
      "UDN deblur telapse time: 0.0791sec\n",
      "task: test-g07-k07 blurry: 18.96/0.566 restored: 33.43/0.917\n",
      "ADM_UDN deblur elapse time: 0.0028sec\n",
      "task: test-g07-k07 blurry: 18.96/0.566 restored: 34.18/0.929\n"
     ]
    }
   ],
   "source": [
    "task = 'Set14'\n",
    "sigma = 2.55 # selected from [2.55, 7.65, 12.75, 25.5]\n",
    "\n",
    "adm_modelsigma = 49\n",
    "adm_ite = 30\n",
    "udn_modelsigma = 49\n",
    "udn_n_layer = 8\n",
    "rho_list = sigma**2/np.logspace(np.log10(udn_modelsigma), np.log10(5), udn_n_layer)**2\n",
    "\n",
    "\n",
    "adm_ratio = ratio_determine(sigma)\n",
    "\n",
    "adm_model = ADM().to(device).eval()\n",
    "\n",
    "udn_model = UDN(rho_list, n_layer = udn_n_layer).to(device).eval()\n",
    "udn_model.load_state_dict(torch.load('models/UDN{}/model_{}_050.pth'.format(udn_n_layer, sigma))['stat_dict'])\n",
    "\n",
    "v = Set14Dataset(sigma = sigma)\n",
    "V = DataLoader(dataset = v, num_workers = 1, batch_size = 1, shuffle = False)\n",
    "\n",
    "for id, data in enumerate(V):\n",
    "    adm_result = ADM_Deblur(adm_model, sigma, task_name = task, data = data, \\\n",
    "                        modelSigma1 = adm_modelsigma, modelSigma2 = 5, ite = adm_ite, early = -1, base = 30,\\\n",
    "                        u_thre = 0.05, l_thre = 0.05, ratio = adm_ratio)\n",
    "    \n",
    "    udn_result = UDN_Deblur(udn_model, data, ratio = adm_ratio, n_layer = udn_n_layer) \n",
    "    \n",
    "    adm_udn_result = ADM_UDN_Combine(data, adm_result['Z-sub'][-1], udn_result['Z-sub'][-1])"
   ]
  },
  {
   "cell_type": "code",
   "execution_count": null,
   "metadata": {},
   "outputs": [],
   "source": []
  }
 ],
 "metadata": {
  "kernelspec": {
   "display_name": "Python 3",
   "language": "python",
   "name": "python3"
  },
  "language_info": {
   "codemirror_mode": {
    "name": "ipython",
    "version": 3
   },
   "file_extension": ".py",
   "mimetype": "text/x-python",
   "name": "python",
   "nbconvert_exporter": "python",
   "pygments_lexer": "ipython3",
   "version": "3.5.2"
  },
  "toc": {
   "base_numbering": 1,
   "nav_menu": {},
   "number_sections": true,
   "sideBar": true,
   "skip_h1_title": false,
   "title_cell": "Table of Contents",
   "title_sidebar": "Contents",
   "toc_cell": false,
   "toc_position": {},
   "toc_section_display": true,
   "toc_window_display": false
  }
 },
 "nbformat": 4,
 "nbformat_minor": 2
}
